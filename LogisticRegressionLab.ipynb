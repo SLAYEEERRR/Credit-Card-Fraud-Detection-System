{
  "nbformat": 4,
  "nbformat_minor": 0,
  "metadata": {
    "colab": {
      "provenance": []
    },
    "kernelspec": {
      "name": "python3",
      "display_name": "Python 3"
    },
    "language_info": {
      "name": "python"
    }
  },
  "cells": [
    {
      "cell_type": "code",
      "source": [
        "pip install --prefix /usr/local joblib"
      ],
      "metadata": {
        "colab": {
          "base_uri": "https://localhost:8080/"
        },
        "id": "oVO_vk_J5_wK",
        "outputId": "eb17859b-0be4-4a9b-96a4-e414558ba81b"
      },
      "execution_count": 48,
      "outputs": [
        {
          "output_type": "stream",
          "name": "stdout",
          "text": [
            "Looking in indexes: https://pypi.org/simple, https://us-python.pkg.dev/colab-wheels/public/simple/\n",
            "Requirement already satisfied: joblib in /usr/local/lib/python3.8/dist-packages (1.2.0)\n"
          ]
        }
      ]
    },
    {
      "cell_type": "markdown",
      "source": [
        "**Objective:Making a model based on logistic regression and predicting values based on it.The dataset used for it is \"Credit card frad detection dataset\"**\n",
        "\n",
        "---\n",
        "\n",
        "\n"
      ],
      "metadata": {
        "id": "WDFEt7mHsNAC"
      }
    },
    {
      "cell_type": "code",
      "source": [
        "#importing all the necessary libraries\n",
        "import numpy as np\n",
        "import pandas as pd\n",
        "from sklearn.model_selection import train_test_split\n",
        "from sklearn.linear_model import LogisticRegression\n",
        "from sklearn.metrics import accuracy_score\n",
        "import joblib\n"
      ],
      "metadata": {
        "id": "Y1sleKoxslRv"
      },
      "execution_count": 50,
      "outputs": []
    },
    {
      "cell_type": "code",
      "source": [
        "#loading dataset \n",
        "credit_card_data=pd.read_csv('/content/creditcard.csv')\n",
        "credit_card_data\n"
      ],
      "metadata": {
        "colab": {
          "base_uri": "https://localhost:8080/",
          "height": 488
        },
        "id": "AfJnRsZ5tz46",
        "outputId": "1c5125d9-4c73-4fa1-f444-c75a56433c2a"
      },
      "execution_count": 51,
      "outputs": [
        {
          "output_type": "execute_result",
          "data": {
            "text/plain": [
              "            Time         V1         V2        V3        V4        V5  \\\n",
              "0            0.0  -1.359807  -0.072781  2.536347  1.378155 -0.338321   \n",
              "1            0.0   1.191857   0.266151  0.166480  0.448154  0.060018   \n",
              "2            1.0  -1.358354  -1.340163  1.773209  0.379780 -0.503198   \n",
              "3            1.0  -0.966272  -0.185226  1.792993 -0.863291 -0.010309   \n",
              "4            2.0  -1.158233   0.877737  1.548718  0.403034 -0.407193   \n",
              "...          ...        ...        ...       ...       ...       ...   \n",
              "284802  172786.0 -11.881118  10.071785 -9.834783 -2.066656 -5.364473   \n",
              "284803  172787.0  -0.732789  -0.055080  2.035030 -0.738589  0.868229   \n",
              "284804  172788.0   1.919565  -0.301254 -3.249640 -0.557828  2.630515   \n",
              "284805  172788.0  -0.240440   0.530483  0.702510  0.689799 -0.377961   \n",
              "284806  172792.0  -0.533413  -0.189733  0.703337 -0.506271 -0.012546   \n",
              "\n",
              "              V6        V7        V8        V9  ...       V21       V22  \\\n",
              "0       0.462388  0.239599  0.098698  0.363787  ... -0.018307  0.277838   \n",
              "1      -0.082361 -0.078803  0.085102 -0.255425  ... -0.225775 -0.638672   \n",
              "2       1.800499  0.791461  0.247676 -1.514654  ...  0.247998  0.771679   \n",
              "3       1.247203  0.237609  0.377436 -1.387024  ... -0.108300  0.005274   \n",
              "4       0.095921  0.592941 -0.270533  0.817739  ... -0.009431  0.798278   \n",
              "...          ...       ...       ...       ...  ...       ...       ...   \n",
              "284802 -2.606837 -4.918215  7.305334  1.914428  ...  0.213454  0.111864   \n",
              "284803  1.058415  0.024330  0.294869  0.584800  ...  0.214205  0.924384   \n",
              "284804  3.031260 -0.296827  0.708417  0.432454  ...  0.232045  0.578229   \n",
              "284805  0.623708 -0.686180  0.679145  0.392087  ...  0.265245  0.800049   \n",
              "284806 -0.649617  1.577006 -0.414650  0.486180  ...  0.261057  0.643078   \n",
              "\n",
              "             V23       V24       V25       V26       V27       V28  Amount  \\\n",
              "0      -0.110474  0.066928  0.128539 -0.189115  0.133558 -0.021053  149.62   \n",
              "1       0.101288 -0.339846  0.167170  0.125895 -0.008983  0.014724    2.69   \n",
              "2       0.909412 -0.689281 -0.327642 -0.139097 -0.055353 -0.059752  378.66   \n",
              "3      -0.190321 -1.175575  0.647376 -0.221929  0.062723  0.061458  123.50   \n",
              "4      -0.137458  0.141267 -0.206010  0.502292  0.219422  0.215153   69.99   \n",
              "...          ...       ...       ...       ...       ...       ...     ...   \n",
              "284802  1.014480 -0.509348  1.436807  0.250034  0.943651  0.823731    0.77   \n",
              "284803  0.012463 -1.016226 -0.606624 -0.395255  0.068472 -0.053527   24.79   \n",
              "284804 -0.037501  0.640134  0.265745 -0.087371  0.004455 -0.026561   67.88   \n",
              "284805 -0.163298  0.123205 -0.569159  0.546668  0.108821  0.104533   10.00   \n",
              "284806  0.376777  0.008797 -0.473649 -0.818267 -0.002415  0.013649  217.00   \n",
              "\n",
              "        Class  \n",
              "0           0  \n",
              "1           0  \n",
              "2           0  \n",
              "3           0  \n",
              "4           0  \n",
              "...       ...  \n",
              "284802      0  \n",
              "284803      0  \n",
              "284804      0  \n",
              "284805      0  \n",
              "284806      0  \n",
              "\n",
              "[284807 rows x 31 columns]"
            ],
            "text/html": [
              "\n",
              "  <div id=\"df-bfc1356b-eb02-4a19-bcee-8c142a60fc2f\">\n",
              "    <div class=\"colab-df-container\">\n",
              "      <div>\n",
              "<style scoped>\n",
              "    .dataframe tbody tr th:only-of-type {\n",
              "        vertical-align: middle;\n",
              "    }\n",
              "\n",
              "    .dataframe tbody tr th {\n",
              "        vertical-align: top;\n",
              "    }\n",
              "\n",
              "    .dataframe thead th {\n",
              "        text-align: right;\n",
              "    }\n",
              "</style>\n",
              "<table border=\"1\" class=\"dataframe\">\n",
              "  <thead>\n",
              "    <tr style=\"text-align: right;\">\n",
              "      <th></th>\n",
              "      <th>Time</th>\n",
              "      <th>V1</th>\n",
              "      <th>V2</th>\n",
              "      <th>V3</th>\n",
              "      <th>V4</th>\n",
              "      <th>V5</th>\n",
              "      <th>V6</th>\n",
              "      <th>V7</th>\n",
              "      <th>V8</th>\n",
              "      <th>V9</th>\n",
              "      <th>...</th>\n",
              "      <th>V21</th>\n",
              "      <th>V22</th>\n",
              "      <th>V23</th>\n",
              "      <th>V24</th>\n",
              "      <th>V25</th>\n",
              "      <th>V26</th>\n",
              "      <th>V27</th>\n",
              "      <th>V28</th>\n",
              "      <th>Amount</th>\n",
              "      <th>Class</th>\n",
              "    </tr>\n",
              "  </thead>\n",
              "  <tbody>\n",
              "    <tr>\n",
              "      <th>0</th>\n",
              "      <td>0.0</td>\n",
              "      <td>-1.359807</td>\n",
              "      <td>-0.072781</td>\n",
              "      <td>2.536347</td>\n",
              "      <td>1.378155</td>\n",
              "      <td>-0.338321</td>\n",
              "      <td>0.462388</td>\n",
              "      <td>0.239599</td>\n",
              "      <td>0.098698</td>\n",
              "      <td>0.363787</td>\n",
              "      <td>...</td>\n",
              "      <td>-0.018307</td>\n",
              "      <td>0.277838</td>\n",
              "      <td>-0.110474</td>\n",
              "      <td>0.066928</td>\n",
              "      <td>0.128539</td>\n",
              "      <td>-0.189115</td>\n",
              "      <td>0.133558</td>\n",
              "      <td>-0.021053</td>\n",
              "      <td>149.62</td>\n",
              "      <td>0</td>\n",
              "    </tr>\n",
              "    <tr>\n",
              "      <th>1</th>\n",
              "      <td>0.0</td>\n",
              "      <td>1.191857</td>\n",
              "      <td>0.266151</td>\n",
              "      <td>0.166480</td>\n",
              "      <td>0.448154</td>\n",
              "      <td>0.060018</td>\n",
              "      <td>-0.082361</td>\n",
              "      <td>-0.078803</td>\n",
              "      <td>0.085102</td>\n",
              "      <td>-0.255425</td>\n",
              "      <td>...</td>\n",
              "      <td>-0.225775</td>\n",
              "      <td>-0.638672</td>\n",
              "      <td>0.101288</td>\n",
              "      <td>-0.339846</td>\n",
              "      <td>0.167170</td>\n",
              "      <td>0.125895</td>\n",
              "      <td>-0.008983</td>\n",
              "      <td>0.014724</td>\n",
              "      <td>2.69</td>\n",
              "      <td>0</td>\n",
              "    </tr>\n",
              "    <tr>\n",
              "      <th>2</th>\n",
              "      <td>1.0</td>\n",
              "      <td>-1.358354</td>\n",
              "      <td>-1.340163</td>\n",
              "      <td>1.773209</td>\n",
              "      <td>0.379780</td>\n",
              "      <td>-0.503198</td>\n",
              "      <td>1.800499</td>\n",
              "      <td>0.791461</td>\n",
              "      <td>0.247676</td>\n",
              "      <td>-1.514654</td>\n",
              "      <td>...</td>\n",
              "      <td>0.247998</td>\n",
              "      <td>0.771679</td>\n",
              "      <td>0.909412</td>\n",
              "      <td>-0.689281</td>\n",
              "      <td>-0.327642</td>\n",
              "      <td>-0.139097</td>\n",
              "      <td>-0.055353</td>\n",
              "      <td>-0.059752</td>\n",
              "      <td>378.66</td>\n",
              "      <td>0</td>\n",
              "    </tr>\n",
              "    <tr>\n",
              "      <th>3</th>\n",
              "      <td>1.0</td>\n",
              "      <td>-0.966272</td>\n",
              "      <td>-0.185226</td>\n",
              "      <td>1.792993</td>\n",
              "      <td>-0.863291</td>\n",
              "      <td>-0.010309</td>\n",
              "      <td>1.247203</td>\n",
              "      <td>0.237609</td>\n",
              "      <td>0.377436</td>\n",
              "      <td>-1.387024</td>\n",
              "      <td>...</td>\n",
              "      <td>-0.108300</td>\n",
              "      <td>0.005274</td>\n",
              "      <td>-0.190321</td>\n",
              "      <td>-1.175575</td>\n",
              "      <td>0.647376</td>\n",
              "      <td>-0.221929</td>\n",
              "      <td>0.062723</td>\n",
              "      <td>0.061458</td>\n",
              "      <td>123.50</td>\n",
              "      <td>0</td>\n",
              "    </tr>\n",
              "    <tr>\n",
              "      <th>4</th>\n",
              "      <td>2.0</td>\n",
              "      <td>-1.158233</td>\n",
              "      <td>0.877737</td>\n",
              "      <td>1.548718</td>\n",
              "      <td>0.403034</td>\n",
              "      <td>-0.407193</td>\n",
              "      <td>0.095921</td>\n",
              "      <td>0.592941</td>\n",
              "      <td>-0.270533</td>\n",
              "      <td>0.817739</td>\n",
              "      <td>...</td>\n",
              "      <td>-0.009431</td>\n",
              "      <td>0.798278</td>\n",
              "      <td>-0.137458</td>\n",
              "      <td>0.141267</td>\n",
              "      <td>-0.206010</td>\n",
              "      <td>0.502292</td>\n",
              "      <td>0.219422</td>\n",
              "      <td>0.215153</td>\n",
              "      <td>69.99</td>\n",
              "      <td>0</td>\n",
              "    </tr>\n",
              "    <tr>\n",
              "      <th>...</th>\n",
              "      <td>...</td>\n",
              "      <td>...</td>\n",
              "      <td>...</td>\n",
              "      <td>...</td>\n",
              "      <td>...</td>\n",
              "      <td>...</td>\n",
              "      <td>...</td>\n",
              "      <td>...</td>\n",
              "      <td>...</td>\n",
              "      <td>...</td>\n",
              "      <td>...</td>\n",
              "      <td>...</td>\n",
              "      <td>...</td>\n",
              "      <td>...</td>\n",
              "      <td>...</td>\n",
              "      <td>...</td>\n",
              "      <td>...</td>\n",
              "      <td>...</td>\n",
              "      <td>...</td>\n",
              "      <td>...</td>\n",
              "      <td>...</td>\n",
              "    </tr>\n",
              "    <tr>\n",
              "      <th>284802</th>\n",
              "      <td>172786.0</td>\n",
              "      <td>-11.881118</td>\n",
              "      <td>10.071785</td>\n",
              "      <td>-9.834783</td>\n",
              "      <td>-2.066656</td>\n",
              "      <td>-5.364473</td>\n",
              "      <td>-2.606837</td>\n",
              "      <td>-4.918215</td>\n",
              "      <td>7.305334</td>\n",
              "      <td>1.914428</td>\n",
              "      <td>...</td>\n",
              "      <td>0.213454</td>\n",
              "      <td>0.111864</td>\n",
              "      <td>1.014480</td>\n",
              "      <td>-0.509348</td>\n",
              "      <td>1.436807</td>\n",
              "      <td>0.250034</td>\n",
              "      <td>0.943651</td>\n",
              "      <td>0.823731</td>\n",
              "      <td>0.77</td>\n",
              "      <td>0</td>\n",
              "    </tr>\n",
              "    <tr>\n",
              "      <th>284803</th>\n",
              "      <td>172787.0</td>\n",
              "      <td>-0.732789</td>\n",
              "      <td>-0.055080</td>\n",
              "      <td>2.035030</td>\n",
              "      <td>-0.738589</td>\n",
              "      <td>0.868229</td>\n",
              "      <td>1.058415</td>\n",
              "      <td>0.024330</td>\n",
              "      <td>0.294869</td>\n",
              "      <td>0.584800</td>\n",
              "      <td>...</td>\n",
              "      <td>0.214205</td>\n",
              "      <td>0.924384</td>\n",
              "      <td>0.012463</td>\n",
              "      <td>-1.016226</td>\n",
              "      <td>-0.606624</td>\n",
              "      <td>-0.395255</td>\n",
              "      <td>0.068472</td>\n",
              "      <td>-0.053527</td>\n",
              "      <td>24.79</td>\n",
              "      <td>0</td>\n",
              "    </tr>\n",
              "    <tr>\n",
              "      <th>284804</th>\n",
              "      <td>172788.0</td>\n",
              "      <td>1.919565</td>\n",
              "      <td>-0.301254</td>\n",
              "      <td>-3.249640</td>\n",
              "      <td>-0.557828</td>\n",
              "      <td>2.630515</td>\n",
              "      <td>3.031260</td>\n",
              "      <td>-0.296827</td>\n",
              "      <td>0.708417</td>\n",
              "      <td>0.432454</td>\n",
              "      <td>...</td>\n",
              "      <td>0.232045</td>\n",
              "      <td>0.578229</td>\n",
              "      <td>-0.037501</td>\n",
              "      <td>0.640134</td>\n",
              "      <td>0.265745</td>\n",
              "      <td>-0.087371</td>\n",
              "      <td>0.004455</td>\n",
              "      <td>-0.026561</td>\n",
              "      <td>67.88</td>\n",
              "      <td>0</td>\n",
              "    </tr>\n",
              "    <tr>\n",
              "      <th>284805</th>\n",
              "      <td>172788.0</td>\n",
              "      <td>-0.240440</td>\n",
              "      <td>0.530483</td>\n",
              "      <td>0.702510</td>\n",
              "      <td>0.689799</td>\n",
              "      <td>-0.377961</td>\n",
              "      <td>0.623708</td>\n",
              "      <td>-0.686180</td>\n",
              "      <td>0.679145</td>\n",
              "      <td>0.392087</td>\n",
              "      <td>...</td>\n",
              "      <td>0.265245</td>\n",
              "      <td>0.800049</td>\n",
              "      <td>-0.163298</td>\n",
              "      <td>0.123205</td>\n",
              "      <td>-0.569159</td>\n",
              "      <td>0.546668</td>\n",
              "      <td>0.108821</td>\n",
              "      <td>0.104533</td>\n",
              "      <td>10.00</td>\n",
              "      <td>0</td>\n",
              "    </tr>\n",
              "    <tr>\n",
              "      <th>284806</th>\n",
              "      <td>172792.0</td>\n",
              "      <td>-0.533413</td>\n",
              "      <td>-0.189733</td>\n",
              "      <td>0.703337</td>\n",
              "      <td>-0.506271</td>\n",
              "      <td>-0.012546</td>\n",
              "      <td>-0.649617</td>\n",
              "      <td>1.577006</td>\n",
              "      <td>-0.414650</td>\n",
              "      <td>0.486180</td>\n",
              "      <td>...</td>\n",
              "      <td>0.261057</td>\n",
              "      <td>0.643078</td>\n",
              "      <td>0.376777</td>\n",
              "      <td>0.008797</td>\n",
              "      <td>-0.473649</td>\n",
              "      <td>-0.818267</td>\n",
              "      <td>-0.002415</td>\n",
              "      <td>0.013649</td>\n",
              "      <td>217.00</td>\n",
              "      <td>0</td>\n",
              "    </tr>\n",
              "  </tbody>\n",
              "</table>\n",
              "<p>284807 rows × 31 columns</p>\n",
              "</div>\n",
              "      <button class=\"colab-df-convert\" onclick=\"convertToInteractive('df-bfc1356b-eb02-4a19-bcee-8c142a60fc2f')\"\n",
              "              title=\"Convert this dataframe to an interactive table.\"\n",
              "              style=\"display:none;\">\n",
              "        \n",
              "  <svg xmlns=\"http://www.w3.org/2000/svg\" height=\"24px\"viewBox=\"0 0 24 24\"\n",
              "       width=\"24px\">\n",
              "    <path d=\"M0 0h24v24H0V0z\" fill=\"none\"/>\n",
              "    <path d=\"M18.56 5.44l.94 2.06.94-2.06 2.06-.94-2.06-.94-.94-2.06-.94 2.06-2.06.94zm-11 1L8.5 8.5l.94-2.06 2.06-.94-2.06-.94L8.5 2.5l-.94 2.06-2.06.94zm10 10l.94 2.06.94-2.06 2.06-.94-2.06-.94-.94-2.06-.94 2.06-2.06.94z\"/><path d=\"M17.41 7.96l-1.37-1.37c-.4-.4-.92-.59-1.43-.59-.52 0-1.04.2-1.43.59L10.3 9.45l-7.72 7.72c-.78.78-.78 2.05 0 2.83L4 21.41c.39.39.9.59 1.41.59.51 0 1.02-.2 1.41-.59l7.78-7.78 2.81-2.81c.8-.78.8-2.07 0-2.86zM5.41 20L4 18.59l7.72-7.72 1.47 1.35L5.41 20z\"/>\n",
              "  </svg>\n",
              "      </button>\n",
              "      \n",
              "  <style>\n",
              "    .colab-df-container {\n",
              "      display:flex;\n",
              "      flex-wrap:wrap;\n",
              "      gap: 12px;\n",
              "    }\n",
              "\n",
              "    .colab-df-convert {\n",
              "      background-color: #E8F0FE;\n",
              "      border: none;\n",
              "      border-radius: 50%;\n",
              "      cursor: pointer;\n",
              "      display: none;\n",
              "      fill: #1967D2;\n",
              "      height: 32px;\n",
              "      padding: 0 0 0 0;\n",
              "      width: 32px;\n",
              "    }\n",
              "\n",
              "    .colab-df-convert:hover {\n",
              "      background-color: #E2EBFA;\n",
              "      box-shadow: 0px 1px 2px rgba(60, 64, 67, 0.3), 0px 1px 3px 1px rgba(60, 64, 67, 0.15);\n",
              "      fill: #174EA6;\n",
              "    }\n",
              "\n",
              "    [theme=dark] .colab-df-convert {\n",
              "      background-color: #3B4455;\n",
              "      fill: #D2E3FC;\n",
              "    }\n",
              "\n",
              "    [theme=dark] .colab-df-convert:hover {\n",
              "      background-color: #434B5C;\n",
              "      box-shadow: 0px 1px 3px 1px rgba(0, 0, 0, 0.15);\n",
              "      filter: drop-shadow(0px 1px 2px rgba(0, 0, 0, 0.3));\n",
              "      fill: #FFFFFF;\n",
              "    }\n",
              "  </style>\n",
              "\n",
              "      <script>\n",
              "        const buttonEl =\n",
              "          document.querySelector('#df-bfc1356b-eb02-4a19-bcee-8c142a60fc2f button.colab-df-convert');\n",
              "        buttonEl.style.display =\n",
              "          google.colab.kernel.accessAllowed ? 'block' : 'none';\n",
              "\n",
              "        async function convertToInteractive(key) {\n",
              "          const element = document.querySelector('#df-bfc1356b-eb02-4a19-bcee-8c142a60fc2f');\n",
              "          const dataTable =\n",
              "            await google.colab.kernel.invokeFunction('convertToInteractive',\n",
              "                                                     [key], {});\n",
              "          if (!dataTable) return;\n",
              "\n",
              "          const docLinkHtml = 'Like what you see? Visit the ' +\n",
              "            '<a target=\"_blank\" href=https://colab.research.google.com/notebooks/data_table.ipynb>data table notebook</a>'\n",
              "            + ' to learn more about interactive tables.';\n",
              "          element.innerHTML = '';\n",
              "          dataTable['output_type'] = 'display_data';\n",
              "          await google.colab.output.renderOutput(dataTable, element);\n",
              "          const docLink = document.createElement('div');\n",
              "          docLink.innerHTML = docLinkHtml;\n",
              "          element.appendChild(docLink);\n",
              "        }\n",
              "      </script>\n",
              "    </div>\n",
              "  </div>\n",
              "  "
            ]
          },
          "metadata": {},
          "execution_count": 51
        }
      ]
    },
    {
      "cell_type": "code",
      "source": [
        "#dataset informations\n",
        "credit_card_data.info()"
      ],
      "metadata": {
        "colab": {
          "base_uri": "https://localhost:8080/"
        },
        "id": "X55FnX0KuLZY",
        "outputId": "343dd6e7-8db0-448b-9891-8d7e23561bb2"
      },
      "execution_count": 7,
      "outputs": [
        {
          "output_type": "stream",
          "name": "stdout",
          "text": [
            "<class 'pandas.core.frame.DataFrame'>\n",
            "RangeIndex: 156612 entries, 0 to 156611\n",
            "Data columns (total 31 columns):\n",
            " #   Column  Non-Null Count   Dtype  \n",
            "---  ------  --------------   -----  \n",
            " 0   Time    156612 non-null  float64\n",
            " 1   V1      156612 non-null  float64\n",
            " 2   V2      156611 non-null  float64\n",
            " 3   V3      156611 non-null  float64\n",
            " 4   V4      156611 non-null  float64\n",
            " 5   V5      156611 non-null  float64\n",
            " 6   V6      156611 non-null  float64\n",
            " 7   V7      156611 non-null  float64\n",
            " 8   V8      156611 non-null  float64\n",
            " 9   V9      156611 non-null  float64\n",
            " 10  V10     156611 non-null  float64\n",
            " 11  V11     156611 non-null  float64\n",
            " 12  V12     156611 non-null  float64\n",
            " 13  V13     156611 non-null  float64\n",
            " 14  V14     156611 non-null  float64\n",
            " 15  V15     156611 non-null  float64\n",
            " 16  V16     156611 non-null  float64\n",
            " 17  V17     156611 non-null  float64\n",
            " 18  V18     156611 non-null  float64\n",
            " 19  V19     156611 non-null  float64\n",
            " 20  V20     156611 non-null  float64\n",
            " 21  V21     156611 non-null  float64\n",
            " 22  V22     156611 non-null  float64\n",
            " 23  V23     156611 non-null  float64\n",
            " 24  V24     156611 non-null  float64\n",
            " 25  V25     156611 non-null  float64\n",
            " 26  V26     156611 non-null  float64\n",
            " 27  V27     156611 non-null  float64\n",
            " 28  V28     156611 non-null  float64\n",
            " 29  Amount  156611 non-null  float64\n",
            " 30  Class   156611 non-null  float64\n",
            "dtypes: float64(31)\n",
            "memory usage: 37.0 MB\n"
          ]
        }
      ]
    },
    {
      "cell_type": "code",
      "source": [
        "#checking the number of missing values in each column\n",
        "credit_card_data.isnull().sum()"
      ],
      "metadata": {
        "colab": {
          "base_uri": "https://localhost:8080/"
        },
        "id": "a7ZO81pfuaj6",
        "outputId": "90494930-b3ab-4732-bfdd-2131877b17a3"
      },
      "execution_count": 6,
      "outputs": [
        {
          "output_type": "execute_result",
          "data": {
            "text/plain": [
              "Time      0\n",
              "V1        0\n",
              "V2        1\n",
              "V3        1\n",
              "V4        1\n",
              "V5        1\n",
              "V6        1\n",
              "V7        1\n",
              "V8        1\n",
              "V9        1\n",
              "V10       1\n",
              "V11       1\n",
              "V12       1\n",
              "V13       1\n",
              "V14       1\n",
              "V15       1\n",
              "V16       1\n",
              "V17       1\n",
              "V18       1\n",
              "V19       1\n",
              "V20       1\n",
              "V21       1\n",
              "V22       1\n",
              "V23       1\n",
              "V24       1\n",
              "V25       1\n",
              "V26       1\n",
              "V27       1\n",
              "V28       1\n",
              "Amount    1\n",
              "Class     1\n",
              "dtype: int64"
            ]
          },
          "metadata": {},
          "execution_count": 6
        }
      ]
    },
    {
      "cell_type": "code",
      "source": [
        "#in the dataset class label for legit or legal transaction is marked as '0' and illegal is marked as '1'\n",
        "credit_card_data['Class'].value_counts()"
      ],
      "metadata": {
        "colab": {
          "base_uri": "https://localhost:8080/"
        },
        "id": "v4UvIL5Fuxfc",
        "outputId": "6a335432-ea49-4f5d-c123-0ff8e1436dc7"
      },
      "execution_count": 10,
      "outputs": [
        {
          "output_type": "execute_result",
          "data": {
            "text/plain": [
              "0.0    187892\n",
              "1.0       368\n",
              "Name: Class, dtype: int64"
            ]
          },
          "metadata": {},
          "execution_count": 10
        }
      ]
    },
    {
      "cell_type": "markdown",
      "source": [
        "**So,we can see that dataset is highly imbalanced as number of entries for legal transaction is 187892 and that of illegal is 368 so we need to make a sample of uniform dataset of both entries almost equal** "
      ],
      "metadata": {
        "id": "6axNkk8UvUUf"
      }
    },
    {
      "cell_type": "code",
      "source": [
        "#seperating the dataset for analysis\n",
        "legit=credit_card_data[credit_card_data.Class==0]\n",
        "fraud=credit_card_data[credit_card_data.Class==1]"
      ],
      "metadata": {
        "id": "D1NIx12Fvn8C"
      },
      "execution_count": 11,
      "outputs": []
    },
    {
      "cell_type": "code",
      "source": [
        "#printing both legit and fraud\n",
        "print(legit.shape)\n",
        "print(fraud.shape)"
      ],
      "metadata": {
        "colab": {
          "base_uri": "https://localhost:8080/"
        },
        "id": "rS9cF9V8wQIS",
        "outputId": "bc66ed01-a318-4c24-8e6c-409ea8b3e685"
      },
      "execution_count": 12,
      "outputs": [
        {
          "output_type": "stream",
          "name": "stdout",
          "text": [
            "(187892, 31)\n",
            "(368, 31)\n"
          ]
        }
      ]
    },
    {
      "cell_type": "code",
      "source": [
        "#statistical measures of the data\n",
        "legit.Amount.describe()"
      ],
      "metadata": {
        "colab": {
          "base_uri": "https://localhost:8080/"
        },
        "id": "TtWvLZk3whHs",
        "outputId": "686608d1-23eb-4382-f6b3-faccd64f0c84"
      },
      "execution_count": 13,
      "outputs": [
        {
          "output_type": "execute_result",
          "data": {
            "text/plain": [
              "count    187892.000000\n",
              "mean         88.949661\n",
              "std         247.532742\n",
              "min           0.000000\n",
              "25%           5.960000\n",
              "50%          22.750000\n",
              "75%          79.000000\n",
              "max       19656.530000\n",
              "Name: Amount, dtype: float64"
            ]
          },
          "metadata": {},
          "execution_count": 13
        }
      ]
    },
    {
      "cell_type": "code",
      "source": [
        "fraud.Amount.describe()"
      ],
      "metadata": {
        "colab": {
          "base_uri": "https://localhost:8080/"
        },
        "id": "aQ3xZKYlw0T9",
        "outputId": "b9afbb91-0d2a-40be-c35b-cea52de48798"
      },
      "execution_count": 14,
      "outputs": [
        {
          "output_type": "execute_result",
          "data": {
            "text/plain": [
              "count     368.000000\n",
              "mean      115.659891\n",
              "std       248.444604\n",
              "min         0.000000\n",
              "25%         1.000000\n",
              "50%        11.395000\n",
              "75%       104.007500\n",
              "max      2125.870000\n",
              "Name: Amount, dtype: float64"
            ]
          },
          "metadata": {},
          "execution_count": 14
        }
      ]
    },
    {
      "cell_type": "code",
      "source": [
        "#compare both the values of fraud and legit\n",
        "credit_card_data.groupby('Class').mean()"
      ],
      "metadata": {
        "colab": {
          "base_uri": "https://localhost:8080/",
          "height": 237
        },
        "id": "rvYzK1IMw8CK",
        "outputId": "5d830e4d-319e-4787-9e22-beeaf05ec774"
      },
      "execution_count": 15,
      "outputs": [
        {
          "output_type": "execute_result",
          "data": {
            "text/plain": [
              "               Time        V1        V2        V3        V4        V5  \\\n",
              "Class                                                                   \n",
              "0.0    66928.356710 -0.115473  0.005839  0.398688  0.079599 -0.127383   \n",
              "1.0    58116.711957 -5.926741  4.330987 -7.884388  4.836685 -4.286202   \n",
              "\n",
              "            V6        V7        V8        V9  ...       V20       V21  \\\n",
              "Class                                         ...                       \n",
              "0.0    0.05489 -0.048754  0.021358  0.018046  ...  0.023277 -0.020226   \n",
              "1.0   -1.42407 -6.893932  0.739547 -2.838131  ...  0.404833  0.790022   \n",
              "\n",
              "           V22       V23       V24       V25       V26       V27       V28  \\\n",
              "Class                                                                        \n",
              "0.0   -0.06081 -0.018125  0.006229  0.072192  0.008418  0.001399  0.002064   \n",
              "1.0   -0.02306 -0.043940 -0.071941  0.080214  0.040915  0.177371  0.050569   \n",
              "\n",
              "           Amount  \n",
              "Class              \n",
              "0.0     88.949661  \n",
              "1.0    115.659891  \n",
              "\n",
              "[2 rows x 30 columns]"
            ],
            "text/html": [
              "\n",
              "  <div id=\"df-d7a5d01c-fb2d-4c73-83de-487cda5aed03\">\n",
              "    <div class=\"colab-df-container\">\n",
              "      <div>\n",
              "<style scoped>\n",
              "    .dataframe tbody tr th:only-of-type {\n",
              "        vertical-align: middle;\n",
              "    }\n",
              "\n",
              "    .dataframe tbody tr th {\n",
              "        vertical-align: top;\n",
              "    }\n",
              "\n",
              "    .dataframe thead th {\n",
              "        text-align: right;\n",
              "    }\n",
              "</style>\n",
              "<table border=\"1\" class=\"dataframe\">\n",
              "  <thead>\n",
              "    <tr style=\"text-align: right;\">\n",
              "      <th></th>\n",
              "      <th>Time</th>\n",
              "      <th>V1</th>\n",
              "      <th>V2</th>\n",
              "      <th>V3</th>\n",
              "      <th>V4</th>\n",
              "      <th>V5</th>\n",
              "      <th>V6</th>\n",
              "      <th>V7</th>\n",
              "      <th>V8</th>\n",
              "      <th>V9</th>\n",
              "      <th>...</th>\n",
              "      <th>V20</th>\n",
              "      <th>V21</th>\n",
              "      <th>V22</th>\n",
              "      <th>V23</th>\n",
              "      <th>V24</th>\n",
              "      <th>V25</th>\n",
              "      <th>V26</th>\n",
              "      <th>V27</th>\n",
              "      <th>V28</th>\n",
              "      <th>Amount</th>\n",
              "    </tr>\n",
              "    <tr>\n",
              "      <th>Class</th>\n",
              "      <th></th>\n",
              "      <th></th>\n",
              "      <th></th>\n",
              "      <th></th>\n",
              "      <th></th>\n",
              "      <th></th>\n",
              "      <th></th>\n",
              "      <th></th>\n",
              "      <th></th>\n",
              "      <th></th>\n",
              "      <th></th>\n",
              "      <th></th>\n",
              "      <th></th>\n",
              "      <th></th>\n",
              "      <th></th>\n",
              "      <th></th>\n",
              "      <th></th>\n",
              "      <th></th>\n",
              "      <th></th>\n",
              "      <th></th>\n",
              "      <th></th>\n",
              "    </tr>\n",
              "  </thead>\n",
              "  <tbody>\n",
              "    <tr>\n",
              "      <th>0.0</th>\n",
              "      <td>66928.356710</td>\n",
              "      <td>-0.115473</td>\n",
              "      <td>0.005839</td>\n",
              "      <td>0.398688</td>\n",
              "      <td>0.079599</td>\n",
              "      <td>-0.127383</td>\n",
              "      <td>0.05489</td>\n",
              "      <td>-0.048754</td>\n",
              "      <td>0.021358</td>\n",
              "      <td>0.018046</td>\n",
              "      <td>...</td>\n",
              "      <td>0.023277</td>\n",
              "      <td>-0.020226</td>\n",
              "      <td>-0.06081</td>\n",
              "      <td>-0.018125</td>\n",
              "      <td>0.006229</td>\n",
              "      <td>0.072192</td>\n",
              "      <td>0.008418</td>\n",
              "      <td>0.001399</td>\n",
              "      <td>0.002064</td>\n",
              "      <td>88.949661</td>\n",
              "    </tr>\n",
              "    <tr>\n",
              "      <th>1.0</th>\n",
              "      <td>58116.711957</td>\n",
              "      <td>-5.926741</td>\n",
              "      <td>4.330987</td>\n",
              "      <td>-7.884388</td>\n",
              "      <td>4.836685</td>\n",
              "      <td>-4.286202</td>\n",
              "      <td>-1.42407</td>\n",
              "      <td>-6.893932</td>\n",
              "      <td>0.739547</td>\n",
              "      <td>-2.838131</td>\n",
              "      <td>...</td>\n",
              "      <td>0.404833</td>\n",
              "      <td>0.790022</td>\n",
              "      <td>-0.02306</td>\n",
              "      <td>-0.043940</td>\n",
              "      <td>-0.071941</td>\n",
              "      <td>0.080214</td>\n",
              "      <td>0.040915</td>\n",
              "      <td>0.177371</td>\n",
              "      <td>0.050569</td>\n",
              "      <td>115.659891</td>\n",
              "    </tr>\n",
              "  </tbody>\n",
              "</table>\n",
              "<p>2 rows × 30 columns</p>\n",
              "</div>\n",
              "      <button class=\"colab-df-convert\" onclick=\"convertToInteractive('df-d7a5d01c-fb2d-4c73-83de-487cda5aed03')\"\n",
              "              title=\"Convert this dataframe to an interactive table.\"\n",
              "              style=\"display:none;\">\n",
              "        \n",
              "  <svg xmlns=\"http://www.w3.org/2000/svg\" height=\"24px\"viewBox=\"0 0 24 24\"\n",
              "       width=\"24px\">\n",
              "    <path d=\"M0 0h24v24H0V0z\" fill=\"none\"/>\n",
              "    <path d=\"M18.56 5.44l.94 2.06.94-2.06 2.06-.94-2.06-.94-.94-2.06-.94 2.06-2.06.94zm-11 1L8.5 8.5l.94-2.06 2.06-.94-2.06-.94L8.5 2.5l-.94 2.06-2.06.94zm10 10l.94 2.06.94-2.06 2.06-.94-2.06-.94-.94-2.06-.94 2.06-2.06.94z\"/><path d=\"M17.41 7.96l-1.37-1.37c-.4-.4-.92-.59-1.43-.59-.52 0-1.04.2-1.43.59L10.3 9.45l-7.72 7.72c-.78.78-.78 2.05 0 2.83L4 21.41c.39.39.9.59 1.41.59.51 0 1.02-.2 1.41-.59l7.78-7.78 2.81-2.81c.8-.78.8-2.07 0-2.86zM5.41 20L4 18.59l7.72-7.72 1.47 1.35L5.41 20z\"/>\n",
              "  </svg>\n",
              "      </button>\n",
              "      \n",
              "  <style>\n",
              "    .colab-df-container {\n",
              "      display:flex;\n",
              "      flex-wrap:wrap;\n",
              "      gap: 12px;\n",
              "    }\n",
              "\n",
              "    .colab-df-convert {\n",
              "      background-color: #E8F0FE;\n",
              "      border: none;\n",
              "      border-radius: 50%;\n",
              "      cursor: pointer;\n",
              "      display: none;\n",
              "      fill: #1967D2;\n",
              "      height: 32px;\n",
              "      padding: 0 0 0 0;\n",
              "      width: 32px;\n",
              "    }\n",
              "\n",
              "    .colab-df-convert:hover {\n",
              "      background-color: #E2EBFA;\n",
              "      box-shadow: 0px 1px 2px rgba(60, 64, 67, 0.3), 0px 1px 3px 1px rgba(60, 64, 67, 0.15);\n",
              "      fill: #174EA6;\n",
              "    }\n",
              "\n",
              "    [theme=dark] .colab-df-convert {\n",
              "      background-color: #3B4455;\n",
              "      fill: #D2E3FC;\n",
              "    }\n",
              "\n",
              "    [theme=dark] .colab-df-convert:hover {\n",
              "      background-color: #434B5C;\n",
              "      box-shadow: 0px 1px 3px 1px rgba(0, 0, 0, 0.15);\n",
              "      filter: drop-shadow(0px 1px 2px rgba(0, 0, 0, 0.3));\n",
              "      fill: #FFFFFF;\n",
              "    }\n",
              "  </style>\n",
              "\n",
              "      <script>\n",
              "        const buttonEl =\n",
              "          document.querySelector('#df-d7a5d01c-fb2d-4c73-83de-487cda5aed03 button.colab-df-convert');\n",
              "        buttonEl.style.display =\n",
              "          google.colab.kernel.accessAllowed ? 'block' : 'none';\n",
              "\n",
              "        async function convertToInteractive(key) {\n",
              "          const element = document.querySelector('#df-d7a5d01c-fb2d-4c73-83de-487cda5aed03');\n",
              "          const dataTable =\n",
              "            await google.colab.kernel.invokeFunction('convertToInteractive',\n",
              "                                                     [key], {});\n",
              "          if (!dataTable) return;\n",
              "\n",
              "          const docLinkHtml = 'Like what you see? Visit the ' +\n",
              "            '<a target=\"_blank\" href=https://colab.research.google.com/notebooks/data_table.ipynb>data table notebook</a>'\n",
              "            + ' to learn more about interactive tables.';\n",
              "          element.innerHTML = '';\n",
              "          dataTable['output_type'] = 'display_data';\n",
              "          await google.colab.output.renderOutput(dataTable, element);\n",
              "          const docLink = document.createElement('div');\n",
              "          docLink.innerHTML = docLinkHtml;\n",
              "          element.appendChild(docLink);\n",
              "        }\n",
              "      </script>\n",
              "    </div>\n",
              "  </div>\n",
              "  "
            ]
          },
          "metadata": {},
          "execution_count": 15
        }
      ]
    },
    {
      "cell_type": "markdown",
      "source": [
        "**So the data is highly imbalanced so we are taking random values for 368 legit dataset as fraud contains 368**"
      ],
      "metadata": {
        "id": "ADR-TendxU4s"
      }
    },
    {
      "cell_type": "code",
      "source": [
        "#sample space for legit dataset\n",
        "legit_sample=legit.sample(n=368)"
      ],
      "metadata": {
        "id": "3j0nYdhtxlwV"
      },
      "execution_count": 16,
      "outputs": []
    },
    {
      "cell_type": "markdown",
      "source": [
        "**Now concatenating both the datasets of fraud and legit_sample**"
      ],
      "metadata": {
        "id": "DJkFid8Cx1te"
      }
    },
    {
      "cell_type": "code",
      "source": [
        "#Concatenating both dataset\n",
        "new_dataset=pd.concat([legit_sample,fraud],axis=0)\n",
        "new_dataset"
      ],
      "metadata": {
        "colab": {
          "base_uri": "https://localhost:8080/",
          "height": 488
        },
        "id": "mgKQEADUx8a3",
        "outputId": "8d0298b9-4848-42f2-8507-61706f0f77b5"
      },
      "execution_count": 17,
      "outputs": [
        {
          "output_type": "execute_result",
          "data": {
            "text/plain": [
              "            Time        V1        V2        V3        V4        V5        V6  \\\n",
              "168573  119288.0  0.124319  0.619917 -1.019457 -2.723670  1.155949 -1.522562   \n",
              "168292  119155.0 -1.232672  1.038254  0.048484 -2.419244 -0.140232  0.059805   \n",
              "173752  121628.0 -2.006809  0.908377  0.163097 -0.913962 -0.914933 -0.372983   \n",
              "117053   74524.0  0.908828 -1.404905  1.314052  0.959853 -1.777457  0.705762   \n",
              "159299  112396.0  2.025331 -0.126615 -1.419791  0.079005  0.209970 -0.558672   \n",
              "...          ...       ...       ...       ...       ...       ...       ...   \n",
              "178208  123525.0 -5.904921  4.439911 -8.631802  7.788684 -4.989580 -1.200144   \n",
              "181966  125200.0 -0.769172  1.342212 -2.171454 -0.151513 -0.648374 -0.973504   \n",
              "182992  125612.0  1.889618  1.073099 -1.678018  4.173268  1.015516 -0.009389   \n",
              "183106  125658.0  0.224414  2.994499 -3.432458  3.986519  3.760233  0.165640   \n",
              "184379  126219.0 -1.141559  1.927650 -3.905356 -0.073943 -0.044858 -1.756999   \n",
              "\n",
              "              V7        V8        V9  ...       V21       V22       V23  \\\n",
              "168573  1.594983 -0.486019  0.368096  ...  0.256683  0.850103 -0.192944   \n",
              "168292  0.981257 -2.277936 -1.359164  ...  1.629433 -0.237162 -0.184905   \n",
              "173752  0.108699  0.181346  1.146667  ... -0.070509 -0.171970  0.104005   \n",
              "117053 -1.157607  0.260878  0.600663  ... -0.337695 -0.480577 -0.215476   \n",
              "159299  0.010150 -0.092658  0.573483  ...  0.319005  1.009354  0.021405   \n",
              "...          ...       ...       ...  ...       ...       ...       ...   \n",
              "178208 -7.674060  4.125761 -5.315778  ...  1.775030  1.266441 -0.199410   \n",
              "181966 -1.706658  0.313745 -1.982302  ... -0.036122 -0.753591 -0.047113   \n",
              "182992 -0.079706  0.064071 -0.714517  ...  0.203728  0.733796 -0.036560   \n",
              "183106  1.099378 -0.654557 -2.435416  ...  0.491337 -0.984223 -0.421979   \n",
              "184379 -1.217416  0.364563 -2.770148  ...  0.102081 -0.531496 -0.328741   \n",
              "\n",
              "             V24       V25       V26       V27       V28  Amount  Class  \n",
              "168573  0.664661 -0.338198 -0.270050  0.174619  0.215630   13.60    0.0  \n",
              "168292 -0.470986  0.068671 -0.371505 -0.590804 -0.168054  133.84    0.0  \n",
              "173752  0.050061 -0.855265 -0.531930 -1.459421 -0.335494   62.92    0.0  \n",
              "117053 -0.125348  0.407634 -0.249811  0.092181  0.068683  187.19    0.0  \n",
              "159299  0.712812  0.280713 -0.467959 -0.000705 -0.058316    1.00    0.0  \n",
              "...          ...       ...       ...       ...       ...     ...    ...  \n",
              "178208  0.014960 -0.000019  0.544210 -1.167566 -1.206354   45.51    1.0  \n",
              "181966  0.358493 -0.287407  0.476506  0.250531  0.250987   40.00    1.0  \n",
              "182992  0.334306  0.147171  0.279556  0.031669  0.035883    3.22    1.0  \n",
              "183106 -1.048058  0.726412  0.268625  0.283689  0.419102    0.00    1.0  \n",
              "184379  0.393100  0.568435  0.786605 -0.146102  0.076211   25.00    1.0  \n",
              "\n",
              "[736 rows x 31 columns]"
            ],
            "text/html": [
              "\n",
              "  <div id=\"df-f68cc33b-61f5-49b1-8695-95a16e2c2275\">\n",
              "    <div class=\"colab-df-container\">\n",
              "      <div>\n",
              "<style scoped>\n",
              "    .dataframe tbody tr th:only-of-type {\n",
              "        vertical-align: middle;\n",
              "    }\n",
              "\n",
              "    .dataframe tbody tr th {\n",
              "        vertical-align: top;\n",
              "    }\n",
              "\n",
              "    .dataframe thead th {\n",
              "        text-align: right;\n",
              "    }\n",
              "</style>\n",
              "<table border=\"1\" class=\"dataframe\">\n",
              "  <thead>\n",
              "    <tr style=\"text-align: right;\">\n",
              "      <th></th>\n",
              "      <th>Time</th>\n",
              "      <th>V1</th>\n",
              "      <th>V2</th>\n",
              "      <th>V3</th>\n",
              "      <th>V4</th>\n",
              "      <th>V5</th>\n",
              "      <th>V6</th>\n",
              "      <th>V7</th>\n",
              "      <th>V8</th>\n",
              "      <th>V9</th>\n",
              "      <th>...</th>\n",
              "      <th>V21</th>\n",
              "      <th>V22</th>\n",
              "      <th>V23</th>\n",
              "      <th>V24</th>\n",
              "      <th>V25</th>\n",
              "      <th>V26</th>\n",
              "      <th>V27</th>\n",
              "      <th>V28</th>\n",
              "      <th>Amount</th>\n",
              "      <th>Class</th>\n",
              "    </tr>\n",
              "  </thead>\n",
              "  <tbody>\n",
              "    <tr>\n",
              "      <th>168573</th>\n",
              "      <td>119288.0</td>\n",
              "      <td>0.124319</td>\n",
              "      <td>0.619917</td>\n",
              "      <td>-1.019457</td>\n",
              "      <td>-2.723670</td>\n",
              "      <td>1.155949</td>\n",
              "      <td>-1.522562</td>\n",
              "      <td>1.594983</td>\n",
              "      <td>-0.486019</td>\n",
              "      <td>0.368096</td>\n",
              "      <td>...</td>\n",
              "      <td>0.256683</td>\n",
              "      <td>0.850103</td>\n",
              "      <td>-0.192944</td>\n",
              "      <td>0.664661</td>\n",
              "      <td>-0.338198</td>\n",
              "      <td>-0.270050</td>\n",
              "      <td>0.174619</td>\n",
              "      <td>0.215630</td>\n",
              "      <td>13.60</td>\n",
              "      <td>0.0</td>\n",
              "    </tr>\n",
              "    <tr>\n",
              "      <th>168292</th>\n",
              "      <td>119155.0</td>\n",
              "      <td>-1.232672</td>\n",
              "      <td>1.038254</td>\n",
              "      <td>0.048484</td>\n",
              "      <td>-2.419244</td>\n",
              "      <td>-0.140232</td>\n",
              "      <td>0.059805</td>\n",
              "      <td>0.981257</td>\n",
              "      <td>-2.277936</td>\n",
              "      <td>-1.359164</td>\n",
              "      <td>...</td>\n",
              "      <td>1.629433</td>\n",
              "      <td>-0.237162</td>\n",
              "      <td>-0.184905</td>\n",
              "      <td>-0.470986</td>\n",
              "      <td>0.068671</td>\n",
              "      <td>-0.371505</td>\n",
              "      <td>-0.590804</td>\n",
              "      <td>-0.168054</td>\n",
              "      <td>133.84</td>\n",
              "      <td>0.0</td>\n",
              "    </tr>\n",
              "    <tr>\n",
              "      <th>173752</th>\n",
              "      <td>121628.0</td>\n",
              "      <td>-2.006809</td>\n",
              "      <td>0.908377</td>\n",
              "      <td>0.163097</td>\n",
              "      <td>-0.913962</td>\n",
              "      <td>-0.914933</td>\n",
              "      <td>-0.372983</td>\n",
              "      <td>0.108699</td>\n",
              "      <td>0.181346</td>\n",
              "      <td>1.146667</td>\n",
              "      <td>...</td>\n",
              "      <td>-0.070509</td>\n",
              "      <td>-0.171970</td>\n",
              "      <td>0.104005</td>\n",
              "      <td>0.050061</td>\n",
              "      <td>-0.855265</td>\n",
              "      <td>-0.531930</td>\n",
              "      <td>-1.459421</td>\n",
              "      <td>-0.335494</td>\n",
              "      <td>62.92</td>\n",
              "      <td>0.0</td>\n",
              "    </tr>\n",
              "    <tr>\n",
              "      <th>117053</th>\n",
              "      <td>74524.0</td>\n",
              "      <td>0.908828</td>\n",
              "      <td>-1.404905</td>\n",
              "      <td>1.314052</td>\n",
              "      <td>0.959853</td>\n",
              "      <td>-1.777457</td>\n",
              "      <td>0.705762</td>\n",
              "      <td>-1.157607</td>\n",
              "      <td>0.260878</td>\n",
              "      <td>0.600663</td>\n",
              "      <td>...</td>\n",
              "      <td>-0.337695</td>\n",
              "      <td>-0.480577</td>\n",
              "      <td>-0.215476</td>\n",
              "      <td>-0.125348</td>\n",
              "      <td>0.407634</td>\n",
              "      <td>-0.249811</td>\n",
              "      <td>0.092181</td>\n",
              "      <td>0.068683</td>\n",
              "      <td>187.19</td>\n",
              "      <td>0.0</td>\n",
              "    </tr>\n",
              "    <tr>\n",
              "      <th>159299</th>\n",
              "      <td>112396.0</td>\n",
              "      <td>2.025331</td>\n",
              "      <td>-0.126615</td>\n",
              "      <td>-1.419791</td>\n",
              "      <td>0.079005</td>\n",
              "      <td>0.209970</td>\n",
              "      <td>-0.558672</td>\n",
              "      <td>0.010150</td>\n",
              "      <td>-0.092658</td>\n",
              "      <td>0.573483</td>\n",
              "      <td>...</td>\n",
              "      <td>0.319005</td>\n",
              "      <td>1.009354</td>\n",
              "      <td>0.021405</td>\n",
              "      <td>0.712812</td>\n",
              "      <td>0.280713</td>\n",
              "      <td>-0.467959</td>\n",
              "      <td>-0.000705</td>\n",
              "      <td>-0.058316</td>\n",
              "      <td>1.00</td>\n",
              "      <td>0.0</td>\n",
              "    </tr>\n",
              "    <tr>\n",
              "      <th>...</th>\n",
              "      <td>...</td>\n",
              "      <td>...</td>\n",
              "      <td>...</td>\n",
              "      <td>...</td>\n",
              "      <td>...</td>\n",
              "      <td>...</td>\n",
              "      <td>...</td>\n",
              "      <td>...</td>\n",
              "      <td>...</td>\n",
              "      <td>...</td>\n",
              "      <td>...</td>\n",
              "      <td>...</td>\n",
              "      <td>...</td>\n",
              "      <td>...</td>\n",
              "      <td>...</td>\n",
              "      <td>...</td>\n",
              "      <td>...</td>\n",
              "      <td>...</td>\n",
              "      <td>...</td>\n",
              "      <td>...</td>\n",
              "      <td>...</td>\n",
              "    </tr>\n",
              "    <tr>\n",
              "      <th>178208</th>\n",
              "      <td>123525.0</td>\n",
              "      <td>-5.904921</td>\n",
              "      <td>4.439911</td>\n",
              "      <td>-8.631802</td>\n",
              "      <td>7.788684</td>\n",
              "      <td>-4.989580</td>\n",
              "      <td>-1.200144</td>\n",
              "      <td>-7.674060</td>\n",
              "      <td>4.125761</td>\n",
              "      <td>-5.315778</td>\n",
              "      <td>...</td>\n",
              "      <td>1.775030</td>\n",
              "      <td>1.266441</td>\n",
              "      <td>-0.199410</td>\n",
              "      <td>0.014960</td>\n",
              "      <td>-0.000019</td>\n",
              "      <td>0.544210</td>\n",
              "      <td>-1.167566</td>\n",
              "      <td>-1.206354</td>\n",
              "      <td>45.51</td>\n",
              "      <td>1.0</td>\n",
              "    </tr>\n",
              "    <tr>\n",
              "      <th>181966</th>\n",
              "      <td>125200.0</td>\n",
              "      <td>-0.769172</td>\n",
              "      <td>1.342212</td>\n",
              "      <td>-2.171454</td>\n",
              "      <td>-0.151513</td>\n",
              "      <td>-0.648374</td>\n",
              "      <td>-0.973504</td>\n",
              "      <td>-1.706658</td>\n",
              "      <td>0.313745</td>\n",
              "      <td>-1.982302</td>\n",
              "      <td>...</td>\n",
              "      <td>-0.036122</td>\n",
              "      <td>-0.753591</td>\n",
              "      <td>-0.047113</td>\n",
              "      <td>0.358493</td>\n",
              "      <td>-0.287407</td>\n",
              "      <td>0.476506</td>\n",
              "      <td>0.250531</td>\n",
              "      <td>0.250987</td>\n",
              "      <td>40.00</td>\n",
              "      <td>1.0</td>\n",
              "    </tr>\n",
              "    <tr>\n",
              "      <th>182992</th>\n",
              "      <td>125612.0</td>\n",
              "      <td>1.889618</td>\n",
              "      <td>1.073099</td>\n",
              "      <td>-1.678018</td>\n",
              "      <td>4.173268</td>\n",
              "      <td>1.015516</td>\n",
              "      <td>-0.009389</td>\n",
              "      <td>-0.079706</td>\n",
              "      <td>0.064071</td>\n",
              "      <td>-0.714517</td>\n",
              "      <td>...</td>\n",
              "      <td>0.203728</td>\n",
              "      <td>0.733796</td>\n",
              "      <td>-0.036560</td>\n",
              "      <td>0.334306</td>\n",
              "      <td>0.147171</td>\n",
              "      <td>0.279556</td>\n",
              "      <td>0.031669</td>\n",
              "      <td>0.035883</td>\n",
              "      <td>3.22</td>\n",
              "      <td>1.0</td>\n",
              "    </tr>\n",
              "    <tr>\n",
              "      <th>183106</th>\n",
              "      <td>125658.0</td>\n",
              "      <td>0.224414</td>\n",
              "      <td>2.994499</td>\n",
              "      <td>-3.432458</td>\n",
              "      <td>3.986519</td>\n",
              "      <td>3.760233</td>\n",
              "      <td>0.165640</td>\n",
              "      <td>1.099378</td>\n",
              "      <td>-0.654557</td>\n",
              "      <td>-2.435416</td>\n",
              "      <td>...</td>\n",
              "      <td>0.491337</td>\n",
              "      <td>-0.984223</td>\n",
              "      <td>-0.421979</td>\n",
              "      <td>-1.048058</td>\n",
              "      <td>0.726412</td>\n",
              "      <td>0.268625</td>\n",
              "      <td>0.283689</td>\n",
              "      <td>0.419102</td>\n",
              "      <td>0.00</td>\n",
              "      <td>1.0</td>\n",
              "    </tr>\n",
              "    <tr>\n",
              "      <th>184379</th>\n",
              "      <td>126219.0</td>\n",
              "      <td>-1.141559</td>\n",
              "      <td>1.927650</td>\n",
              "      <td>-3.905356</td>\n",
              "      <td>-0.073943</td>\n",
              "      <td>-0.044858</td>\n",
              "      <td>-1.756999</td>\n",
              "      <td>-1.217416</td>\n",
              "      <td>0.364563</td>\n",
              "      <td>-2.770148</td>\n",
              "      <td>...</td>\n",
              "      <td>0.102081</td>\n",
              "      <td>-0.531496</td>\n",
              "      <td>-0.328741</td>\n",
              "      <td>0.393100</td>\n",
              "      <td>0.568435</td>\n",
              "      <td>0.786605</td>\n",
              "      <td>-0.146102</td>\n",
              "      <td>0.076211</td>\n",
              "      <td>25.00</td>\n",
              "      <td>1.0</td>\n",
              "    </tr>\n",
              "  </tbody>\n",
              "</table>\n",
              "<p>736 rows × 31 columns</p>\n",
              "</div>\n",
              "      <button class=\"colab-df-convert\" onclick=\"convertToInteractive('df-f68cc33b-61f5-49b1-8695-95a16e2c2275')\"\n",
              "              title=\"Convert this dataframe to an interactive table.\"\n",
              "              style=\"display:none;\">\n",
              "        \n",
              "  <svg xmlns=\"http://www.w3.org/2000/svg\" height=\"24px\"viewBox=\"0 0 24 24\"\n",
              "       width=\"24px\">\n",
              "    <path d=\"M0 0h24v24H0V0z\" fill=\"none\"/>\n",
              "    <path d=\"M18.56 5.44l.94 2.06.94-2.06 2.06-.94-2.06-.94-.94-2.06-.94 2.06-2.06.94zm-11 1L8.5 8.5l.94-2.06 2.06-.94-2.06-.94L8.5 2.5l-.94 2.06-2.06.94zm10 10l.94 2.06.94-2.06 2.06-.94-2.06-.94-.94-2.06-.94 2.06-2.06.94z\"/><path d=\"M17.41 7.96l-1.37-1.37c-.4-.4-.92-.59-1.43-.59-.52 0-1.04.2-1.43.59L10.3 9.45l-7.72 7.72c-.78.78-.78 2.05 0 2.83L4 21.41c.39.39.9.59 1.41.59.51 0 1.02-.2 1.41-.59l7.78-7.78 2.81-2.81c.8-.78.8-2.07 0-2.86zM5.41 20L4 18.59l7.72-7.72 1.47 1.35L5.41 20z\"/>\n",
              "  </svg>\n",
              "      </button>\n",
              "      \n",
              "  <style>\n",
              "    .colab-df-container {\n",
              "      display:flex;\n",
              "      flex-wrap:wrap;\n",
              "      gap: 12px;\n",
              "    }\n",
              "\n",
              "    .colab-df-convert {\n",
              "      background-color: #E8F0FE;\n",
              "      border: none;\n",
              "      border-radius: 50%;\n",
              "      cursor: pointer;\n",
              "      display: none;\n",
              "      fill: #1967D2;\n",
              "      height: 32px;\n",
              "      padding: 0 0 0 0;\n",
              "      width: 32px;\n",
              "    }\n",
              "\n",
              "    .colab-df-convert:hover {\n",
              "      background-color: #E2EBFA;\n",
              "      box-shadow: 0px 1px 2px rgba(60, 64, 67, 0.3), 0px 1px 3px 1px rgba(60, 64, 67, 0.15);\n",
              "      fill: #174EA6;\n",
              "    }\n",
              "\n",
              "    [theme=dark] .colab-df-convert {\n",
              "      background-color: #3B4455;\n",
              "      fill: #D2E3FC;\n",
              "    }\n",
              "\n",
              "    [theme=dark] .colab-df-convert:hover {\n",
              "      background-color: #434B5C;\n",
              "      box-shadow: 0px 1px 3px 1px rgba(0, 0, 0, 0.15);\n",
              "      filter: drop-shadow(0px 1px 2px rgba(0, 0, 0, 0.3));\n",
              "      fill: #FFFFFF;\n",
              "    }\n",
              "  </style>\n",
              "\n",
              "      <script>\n",
              "        const buttonEl =\n",
              "          document.querySelector('#df-f68cc33b-61f5-49b1-8695-95a16e2c2275 button.colab-df-convert');\n",
              "        buttonEl.style.display =\n",
              "          google.colab.kernel.accessAllowed ? 'block' : 'none';\n",
              "\n",
              "        async function convertToInteractive(key) {\n",
              "          const element = document.querySelector('#df-f68cc33b-61f5-49b1-8695-95a16e2c2275');\n",
              "          const dataTable =\n",
              "            await google.colab.kernel.invokeFunction('convertToInteractive',\n",
              "                                                     [key], {});\n",
              "          if (!dataTable) return;\n",
              "\n",
              "          const docLinkHtml = 'Like what you see? Visit the ' +\n",
              "            '<a target=\"_blank\" href=https://colab.research.google.com/notebooks/data_table.ipynb>data table notebook</a>'\n",
              "            + ' to learn more about interactive tables.';\n",
              "          element.innerHTML = '';\n",
              "          dataTable['output_type'] = 'display_data';\n",
              "          await google.colab.output.renderOutput(dataTable, element);\n",
              "          const docLink = document.createElement('div');\n",
              "          docLink.innerHTML = docLinkHtml;\n",
              "          element.appendChild(docLink);\n",
              "        }\n",
              "      </script>\n",
              "    </div>\n",
              "  </div>\n",
              "  "
            ]
          },
          "metadata": {},
          "execution_count": 17
        }
      ]
    },
    {
      "cell_type": "code",
      "source": [
        "new_dataset['Class'].value_counts()"
      ],
      "metadata": {
        "colab": {
          "base_uri": "https://localhost:8080/"
        },
        "id": "kijhmUo0yPCJ",
        "outputId": "bac11d97-b592-4a2e-d8fe-757bad5bc99b"
      },
      "execution_count": 18,
      "outputs": [
        {
          "output_type": "execute_result",
          "data": {
            "text/plain": [
              "0.0    368\n",
              "1.0    368\n",
              "Name: Class, dtype: int64"
            ]
          },
          "metadata": {},
          "execution_count": 18
        }
      ]
    },
    {
      "cell_type": "markdown",
      "source": [
        "**Thus now the dataset is a good fit for testing and training**"
      ],
      "metadata": {
        "id": "k13WvrY9yYXw"
      }
    },
    {
      "cell_type": "code",
      "source": [
        "new_dataset.groupby('Class').mean()"
      ],
      "metadata": {
        "colab": {
          "base_uri": "https://localhost:8080/",
          "height": 237
        },
        "id": "A5uESaG9ygeJ",
        "outputId": "c697a3a1-b08e-4356-8a39-d644a1b0142c"
      },
      "execution_count": 20,
      "outputs": [
        {
          "output_type": "execute_result",
          "data": {
            "text/plain": [
              "               Time        V1        V2        V3        V4        V5  \\\n",
              "Class                                                                   \n",
              "0.0    66313.788043 -0.134189 -0.095668  0.371460  0.051690 -0.194387   \n",
              "1.0    58116.711957 -5.926741  4.330987 -7.884388  4.836685 -4.286202   \n",
              "\n",
              "             V6        V7        V8        V9  ...       V20       V21  \\\n",
              "Class                                          ...                       \n",
              "0.0   -0.000799 -0.045916  0.038212  0.044558  ...  0.029031 -0.044945   \n",
              "1.0   -1.424070 -6.893932  0.739547 -2.838131  ...  0.404833  0.790022   \n",
              "\n",
              "           V22       V23       V24       V25       V26       V27       V28  \\\n",
              "Class                                                                        \n",
              "0.0   -0.04938 -0.000431 -0.016758  0.104893  0.016293 -0.001118  0.013289   \n",
              "1.0   -0.02306 -0.043940 -0.071941  0.080214  0.040915  0.177371  0.050569   \n",
              "\n",
              "           Amount  \n",
              "Class              \n",
              "0.0    101.668886  \n",
              "1.0    115.659891  \n",
              "\n",
              "[2 rows x 30 columns]"
            ],
            "text/html": [
              "\n",
              "  <div id=\"df-f5b1fb76-c3ee-4f73-b855-180a0d3ce91c\">\n",
              "    <div class=\"colab-df-container\">\n",
              "      <div>\n",
              "<style scoped>\n",
              "    .dataframe tbody tr th:only-of-type {\n",
              "        vertical-align: middle;\n",
              "    }\n",
              "\n",
              "    .dataframe tbody tr th {\n",
              "        vertical-align: top;\n",
              "    }\n",
              "\n",
              "    .dataframe thead th {\n",
              "        text-align: right;\n",
              "    }\n",
              "</style>\n",
              "<table border=\"1\" class=\"dataframe\">\n",
              "  <thead>\n",
              "    <tr style=\"text-align: right;\">\n",
              "      <th></th>\n",
              "      <th>Time</th>\n",
              "      <th>V1</th>\n",
              "      <th>V2</th>\n",
              "      <th>V3</th>\n",
              "      <th>V4</th>\n",
              "      <th>V5</th>\n",
              "      <th>V6</th>\n",
              "      <th>V7</th>\n",
              "      <th>V8</th>\n",
              "      <th>V9</th>\n",
              "      <th>...</th>\n",
              "      <th>V20</th>\n",
              "      <th>V21</th>\n",
              "      <th>V22</th>\n",
              "      <th>V23</th>\n",
              "      <th>V24</th>\n",
              "      <th>V25</th>\n",
              "      <th>V26</th>\n",
              "      <th>V27</th>\n",
              "      <th>V28</th>\n",
              "      <th>Amount</th>\n",
              "    </tr>\n",
              "    <tr>\n",
              "      <th>Class</th>\n",
              "      <th></th>\n",
              "      <th></th>\n",
              "      <th></th>\n",
              "      <th></th>\n",
              "      <th></th>\n",
              "      <th></th>\n",
              "      <th></th>\n",
              "      <th></th>\n",
              "      <th></th>\n",
              "      <th></th>\n",
              "      <th></th>\n",
              "      <th></th>\n",
              "      <th></th>\n",
              "      <th></th>\n",
              "      <th></th>\n",
              "      <th></th>\n",
              "      <th></th>\n",
              "      <th></th>\n",
              "      <th></th>\n",
              "      <th></th>\n",
              "      <th></th>\n",
              "    </tr>\n",
              "  </thead>\n",
              "  <tbody>\n",
              "    <tr>\n",
              "      <th>0.0</th>\n",
              "      <td>66313.788043</td>\n",
              "      <td>-0.134189</td>\n",
              "      <td>-0.095668</td>\n",
              "      <td>0.371460</td>\n",
              "      <td>0.051690</td>\n",
              "      <td>-0.194387</td>\n",
              "      <td>-0.000799</td>\n",
              "      <td>-0.045916</td>\n",
              "      <td>0.038212</td>\n",
              "      <td>0.044558</td>\n",
              "      <td>...</td>\n",
              "      <td>0.029031</td>\n",
              "      <td>-0.044945</td>\n",
              "      <td>-0.04938</td>\n",
              "      <td>-0.000431</td>\n",
              "      <td>-0.016758</td>\n",
              "      <td>0.104893</td>\n",
              "      <td>0.016293</td>\n",
              "      <td>-0.001118</td>\n",
              "      <td>0.013289</td>\n",
              "      <td>101.668886</td>\n",
              "    </tr>\n",
              "    <tr>\n",
              "      <th>1.0</th>\n",
              "      <td>58116.711957</td>\n",
              "      <td>-5.926741</td>\n",
              "      <td>4.330987</td>\n",
              "      <td>-7.884388</td>\n",
              "      <td>4.836685</td>\n",
              "      <td>-4.286202</td>\n",
              "      <td>-1.424070</td>\n",
              "      <td>-6.893932</td>\n",
              "      <td>0.739547</td>\n",
              "      <td>-2.838131</td>\n",
              "      <td>...</td>\n",
              "      <td>0.404833</td>\n",
              "      <td>0.790022</td>\n",
              "      <td>-0.02306</td>\n",
              "      <td>-0.043940</td>\n",
              "      <td>-0.071941</td>\n",
              "      <td>0.080214</td>\n",
              "      <td>0.040915</td>\n",
              "      <td>0.177371</td>\n",
              "      <td>0.050569</td>\n",
              "      <td>115.659891</td>\n",
              "    </tr>\n",
              "  </tbody>\n",
              "</table>\n",
              "<p>2 rows × 30 columns</p>\n",
              "</div>\n",
              "      <button class=\"colab-df-convert\" onclick=\"convertToInteractive('df-f5b1fb76-c3ee-4f73-b855-180a0d3ce91c')\"\n",
              "              title=\"Convert this dataframe to an interactive table.\"\n",
              "              style=\"display:none;\">\n",
              "        \n",
              "  <svg xmlns=\"http://www.w3.org/2000/svg\" height=\"24px\"viewBox=\"0 0 24 24\"\n",
              "       width=\"24px\">\n",
              "    <path d=\"M0 0h24v24H0V0z\" fill=\"none\"/>\n",
              "    <path d=\"M18.56 5.44l.94 2.06.94-2.06 2.06-.94-2.06-.94-.94-2.06-.94 2.06-2.06.94zm-11 1L8.5 8.5l.94-2.06 2.06-.94-2.06-.94L8.5 2.5l-.94 2.06-2.06.94zm10 10l.94 2.06.94-2.06 2.06-.94-2.06-.94-.94-2.06-.94 2.06-2.06.94z\"/><path d=\"M17.41 7.96l-1.37-1.37c-.4-.4-.92-.59-1.43-.59-.52 0-1.04.2-1.43.59L10.3 9.45l-7.72 7.72c-.78.78-.78 2.05 0 2.83L4 21.41c.39.39.9.59 1.41.59.51 0 1.02-.2 1.41-.59l7.78-7.78 2.81-2.81c.8-.78.8-2.07 0-2.86zM5.41 20L4 18.59l7.72-7.72 1.47 1.35L5.41 20z\"/>\n",
              "  </svg>\n",
              "      </button>\n",
              "      \n",
              "  <style>\n",
              "    .colab-df-container {\n",
              "      display:flex;\n",
              "      flex-wrap:wrap;\n",
              "      gap: 12px;\n",
              "    }\n",
              "\n",
              "    .colab-df-convert {\n",
              "      background-color: #E8F0FE;\n",
              "      border: none;\n",
              "      border-radius: 50%;\n",
              "      cursor: pointer;\n",
              "      display: none;\n",
              "      fill: #1967D2;\n",
              "      height: 32px;\n",
              "      padding: 0 0 0 0;\n",
              "      width: 32px;\n",
              "    }\n",
              "\n",
              "    .colab-df-convert:hover {\n",
              "      background-color: #E2EBFA;\n",
              "      box-shadow: 0px 1px 2px rgba(60, 64, 67, 0.3), 0px 1px 3px 1px rgba(60, 64, 67, 0.15);\n",
              "      fill: #174EA6;\n",
              "    }\n",
              "\n",
              "    [theme=dark] .colab-df-convert {\n",
              "      background-color: #3B4455;\n",
              "      fill: #D2E3FC;\n",
              "    }\n",
              "\n",
              "    [theme=dark] .colab-df-convert:hover {\n",
              "      background-color: #434B5C;\n",
              "      box-shadow: 0px 1px 3px 1px rgba(0, 0, 0, 0.15);\n",
              "      filter: drop-shadow(0px 1px 2px rgba(0, 0, 0, 0.3));\n",
              "      fill: #FFFFFF;\n",
              "    }\n",
              "  </style>\n",
              "\n",
              "      <script>\n",
              "        const buttonEl =\n",
              "          document.querySelector('#df-f5b1fb76-c3ee-4f73-b855-180a0d3ce91c button.colab-df-convert');\n",
              "        buttonEl.style.display =\n",
              "          google.colab.kernel.accessAllowed ? 'block' : 'none';\n",
              "\n",
              "        async function convertToInteractive(key) {\n",
              "          const element = document.querySelector('#df-f5b1fb76-c3ee-4f73-b855-180a0d3ce91c');\n",
              "          const dataTable =\n",
              "            await google.colab.kernel.invokeFunction('convertToInteractive',\n",
              "                                                     [key], {});\n",
              "          if (!dataTable) return;\n",
              "\n",
              "          const docLinkHtml = 'Like what you see? Visit the ' +\n",
              "            '<a target=\"_blank\" href=https://colab.research.google.com/notebooks/data_table.ipynb>data table notebook</a>'\n",
              "            + ' to learn more about interactive tables.';\n",
              "          element.innerHTML = '';\n",
              "          dataTable['output_type'] = 'display_data';\n",
              "          await google.colab.output.renderOutput(dataTable, element);\n",
              "          const docLink = document.createElement('div');\n",
              "          docLink.innerHTML = docLinkHtml;\n",
              "          element.appendChild(docLink);\n",
              "        }\n",
              "      </script>\n",
              "    </div>\n",
              "  </div>\n",
              "  "
            ]
          },
          "metadata": {},
          "execution_count": 20
        }
      ]
    },
    {
      "cell_type": "markdown",
      "source": [
        "**Splitting the dataset into \"Features and \"Targets\"**"
      ],
      "metadata": {
        "id": "J5o3gbgNywVy"
      }
    },
    {
      "cell_type": "code",
      "source": [
        "#Splitting the dataset into \"Features and \"Targets\"\n",
        "X=new_dataset.drop(columns='Class',axis=1)\n",
        "Y=new_dataset['Class']"
      ],
      "metadata": {
        "id": "Y0UeCEl6y4Eq"
      },
      "execution_count": 23,
      "outputs": []
    },
    {
      "cell_type": "code",
      "source": [
        "print(X)"
      ],
      "metadata": {
        "colab": {
          "base_uri": "https://localhost:8080/"
        },
        "id": "WQL1NeXAzbOU",
        "outputId": "ae466e85-029e-4e75-ac65-baac06c18d2d"
      },
      "execution_count": 24,
      "outputs": [
        {
          "output_type": "stream",
          "name": "stdout",
          "text": [
            "            Time        V1        V2        V3        V4        V5        V6  \\\n",
            "168573  119288.0  0.124319  0.619917 -1.019457 -2.723670  1.155949 -1.522562   \n",
            "168292  119155.0 -1.232672  1.038254  0.048484 -2.419244 -0.140232  0.059805   \n",
            "173752  121628.0 -2.006809  0.908377  0.163097 -0.913962 -0.914933 -0.372983   \n",
            "117053   74524.0  0.908828 -1.404905  1.314052  0.959853 -1.777457  0.705762   \n",
            "159299  112396.0  2.025331 -0.126615 -1.419791  0.079005  0.209970 -0.558672   \n",
            "...          ...       ...       ...       ...       ...       ...       ...   \n",
            "178208  123525.0 -5.904921  4.439911 -8.631802  7.788684 -4.989580 -1.200144   \n",
            "181966  125200.0 -0.769172  1.342212 -2.171454 -0.151513 -0.648374 -0.973504   \n",
            "182992  125612.0  1.889618  1.073099 -1.678018  4.173268  1.015516 -0.009389   \n",
            "183106  125658.0  0.224414  2.994499 -3.432458  3.986519  3.760233  0.165640   \n",
            "184379  126219.0 -1.141559  1.927650 -3.905356 -0.073943 -0.044858 -1.756999   \n",
            "\n",
            "              V7        V8        V9  ...       V20       V21       V22  \\\n",
            "168573  1.594983 -0.486019  0.368096  ... -0.141607  0.256683  0.850103   \n",
            "168292  0.981257 -2.277936 -1.359164  ... -0.432766  1.629433 -0.237162   \n",
            "173752  0.108699  0.181346  1.146667  ... -0.493911 -0.070509 -0.171970   \n",
            "117053 -1.157607  0.260878  0.600663  ... -0.212472 -0.337695 -0.480577   \n",
            "159299  0.010150 -0.092658  0.573483  ... -0.260256  0.319005  1.009354   \n",
            "...          ...       ...       ...  ...       ...       ...       ...   \n",
            "178208 -7.674060  4.125761 -5.315778  ... -0.505608  1.775030  1.266441   \n",
            "181966 -1.706658  0.313745 -1.982302  ... -0.102294 -0.036122 -0.753591   \n",
            "182992 -0.079706  0.064071 -0.714517  ... -0.153570  0.203728  0.733796   \n",
            "183106  1.099378 -0.654557 -2.435416  ... -0.200846  0.491337 -0.984223   \n",
            "184379 -1.217416  0.364563 -2.770148  ... -0.250583  0.102081 -0.531496   \n",
            "\n",
            "             V23       V24       V25       V26       V27       V28  Amount  \n",
            "168573 -0.192944  0.664661 -0.338198 -0.270050  0.174619  0.215630   13.60  \n",
            "168292 -0.184905 -0.470986  0.068671 -0.371505 -0.590804 -0.168054  133.84  \n",
            "173752  0.104005  0.050061 -0.855265 -0.531930 -1.459421 -0.335494   62.92  \n",
            "117053 -0.215476 -0.125348  0.407634 -0.249811  0.092181  0.068683  187.19  \n",
            "159299  0.021405  0.712812  0.280713 -0.467959 -0.000705 -0.058316    1.00  \n",
            "...          ...       ...       ...       ...       ...       ...     ...  \n",
            "178208 -0.199410  0.014960 -0.000019  0.544210 -1.167566 -1.206354   45.51  \n",
            "181966 -0.047113  0.358493 -0.287407  0.476506  0.250531  0.250987   40.00  \n",
            "182992 -0.036560  0.334306  0.147171  0.279556  0.031669  0.035883    3.22  \n",
            "183106 -0.421979 -1.048058  0.726412  0.268625  0.283689  0.419102    0.00  \n",
            "184379 -0.328741  0.393100  0.568435  0.786605 -0.146102  0.076211   25.00  \n",
            "\n",
            "[736 rows x 30 columns]\n"
          ]
        }
      ]
    },
    {
      "cell_type": "code",
      "source": [
        "print(Y)"
      ],
      "metadata": {
        "colab": {
          "base_uri": "https://localhost:8080/"
        },
        "id": "QftJNfs4zc_E",
        "outputId": "0c43c5e1-ee98-407e-c6be-6876efffa36b"
      },
      "execution_count": 25,
      "outputs": [
        {
          "output_type": "stream",
          "name": "stdout",
          "text": [
            "168573    0.0\n",
            "168292    0.0\n",
            "173752    0.0\n",
            "117053    0.0\n",
            "159299    0.0\n",
            "         ... \n",
            "178208    1.0\n",
            "181966    1.0\n",
            "182992    1.0\n",
            "183106    1.0\n",
            "184379    1.0\n",
            "Name: Class, Length: 736, dtype: float64\n"
          ]
        }
      ]
    },
    {
      "cell_type": "markdown",
      "source": [
        "**Splitting the dataset into testing and training**"
      ],
      "metadata": {
        "id": "804TR-4Yzix-"
      }
    },
    {
      "cell_type": "code",
      "source": [
        "#Splitting the dataset into testing and training\n",
        "X_train,X_test,Y_train,Y_test=train_test_split(X,Y,test_size=0.2,stratify=Y,random_state=2)"
      ],
      "metadata": {
        "id": "3SwUd1jjzh47"
      },
      "execution_count": 27,
      "outputs": []
    },
    {
      "cell_type": "code",
      "source": [
        "print(X.shape,X_train.shape,X_test.shape)"
      ],
      "metadata": {
        "colab": {
          "base_uri": "https://localhost:8080/"
        },
        "id": "clD7RvrT0NfP",
        "outputId": "ce1621fa-d3be-4553-fed5-1fe19bc852ad"
      },
      "execution_count": 28,
      "outputs": [
        {
          "output_type": "stream",
          "name": "stdout",
          "text": [
            "(736, 30) (588, 30) (148, 30)\n"
          ]
        }
      ]
    },
    {
      "cell_type": "markdown",
      "source": [
        "**Model Training**"
      ],
      "metadata": {
        "id": "CNzj0tjo0eXu"
      }
    },
    {
      "cell_type": "markdown",
      "source": [
        "**Logistic Regression**"
      ],
      "metadata": {
        "id": "un4v_dZ20h9n"
      }
    },
    {
      "cell_type": "code",
      "source": [
        "model=LogisticRegression()"
      ],
      "metadata": {
        "id": "qp0dsjA80daI"
      },
      "execution_count": 29,
      "outputs": []
    },
    {
      "cell_type": "markdown",
      "source": [
        "**Training the model with logistic regression on the training data**"
      ],
      "metadata": {
        "id": "yyBCdJML0ws1"
      }
    },
    {
      "cell_type": "code",
      "source": [
        "model.fit(X_train, Y_train)"
      ],
      "metadata": {
        "colab": {
          "base_uri": "https://localhost:8080/"
        },
        "id": "lNKaeLgc0r5x",
        "outputId": "a59bcee2-0ce1-452a-8c3e-4ba7c10599d8"
      },
      "execution_count": 31,
      "outputs": [
        {
          "output_type": "execute_result",
          "data": {
            "text/plain": [
              "LogisticRegression()"
            ]
          },
          "metadata": {},
          "execution_count": 31
        }
      ]
    },
    {
      "cell_type": "markdown",
      "source": [
        "**Model Evaluation :Measuring the accurracy of the model**"
      ],
      "metadata": {
        "id": "dvha3vNF1B-B"
      }
    },
    {
      "cell_type": "code",
      "source": [
        "joblib.dump(model,'credit-card-fraud-detection.joblib')"
      ],
      "metadata": {
        "colab": {
          "base_uri": "https://localhost:8080/"
        },
        "id": "0SkiZWR67RCv",
        "outputId": "678b8848-0fbe-43c2-b7c4-174de5e3e096"
      },
      "execution_count": 52,
      "outputs": [
        {
          "output_type": "execute_result",
          "data": {
            "text/plain": [
              "['credit-card-fraud-detection.joblib']"
            ]
          },
          "metadata": {},
          "execution_count": 52
        }
      ]
    },
    {
      "cell_type": "code",
      "source": [
        "#Measuring the accurracy of the model using accuracy_score on the training dataset\n",
        "X_train_prediction=model.predict(X_train)\n",
        "training_data_accuracy=accuracy_score(X_train_prediction,Y_train)\n"
      ],
      "metadata": {
        "id": "weSWkSwQ1MGW"
      },
      "execution_count": 32,
      "outputs": []
    },
    {
      "cell_type": "code",
      "source": [
        "print('Accuary of the training dataset is : ',training_data_accuracy)"
      ],
      "metadata": {
        "colab": {
          "base_uri": "https://localhost:8080/"
        },
        "id": "ZnZPpmEN1xKh",
        "outputId": "fa1228a6-fa57-47db-8f94-b7e6774c527a"
      },
      "execution_count": 35,
      "outputs": [
        {
          "output_type": "stream",
          "name": "stdout",
          "text": [
            "Accuary of the training dataset is :  0.9081632653061225\n"
          ]
        }
      ]
    },
    {
      "cell_type": "markdown",
      "source": [
        "**Thus we can see our accuracy score is 91%(apporx.) that means the prediction will be around 91% accurate so thus it concludes that our sampling of the dataset is also fine**"
      ],
      "metadata": {
        "id": "y582r1uk17Jq"
      }
    },
    {
      "cell_type": "markdown",
      "source": [
        "**Now, measuring the accurracy of the model using accuracy_score on the testing dataset**"
      ],
      "metadata": {
        "id": "ijmmGhoL2VZa"
      }
    },
    {
      "cell_type": "code",
      "source": [
        "#Measuring the accurracy of the model using accuracy_score on the testing dataset\n",
        "X_test_prediction=model.predict(X_test)\n",
        "testing_data_accuracy=accuracy_score(X_test_prediction,Y_test)"
      ],
      "metadata": {
        "id": "2kRS0fu72Q5U"
      },
      "execution_count": 34,
      "outputs": []
    },
    {
      "cell_type": "code",
      "source": [
        "print('Accuary of the testing dataset is : ',testing_data_accuracy)"
      ],
      "metadata": {
        "colab": {
          "base_uri": "https://localhost:8080/"
        },
        "id": "C4zG9C0B2pjh",
        "outputId": "6fb14652-86d2-4b21-8505-594954003791"
      },
      "execution_count": 36,
      "outputs": [
        {
          "output_type": "stream",
          "name": "stdout",
          "text": [
            "Accuary of the testing dataset is :  0.9391891891891891\n"
          ]
        }
      ]
    },
    {
      "cell_type": "markdown",
      "source": [
        "**Thus our testing dataset is also having good accuracy score of 94% so predicting would be more accurate**"
      ],
      "metadata": {
        "id": "WKIYflKt2xn5"
      }
    },
    {
      "cell_type": "code",
      "source": [
        "predicting_model=joblib.load('/content/credit-card-fraud-detection.joblib')\n",
        "predictions=predicting_model.predict([[167543,-0.234,-0.234,-0.234,-0.234,-0.234,-0.234,-0.234,-0.234,-0.234,-0.234,-0.234,-0.234,-0.234,-0.234,-0.234,-0.234,-0.234,-0.234,-0.234,-0.234,-0.234,-0.234,-0.234,-0.234,-0.234,-0.234,-0.234,-0.234,-0.234]])\n",
        "print(predictions)"
      ],
      "metadata": {
        "colab": {
          "base_uri": "https://localhost:8080/"
        },
        "id": "3CR0wbHB70rd",
        "outputId": "6313296c-fe88-4b65-b615-c8cbb9d13bde"
      },
      "execution_count": 65,
      "outputs": [
        {
          "output_type": "stream",
          "name": "stdout",
          "text": [
            "[0.]\n"
          ]
        },
        {
          "output_type": "stream",
          "name": "stderr",
          "text": [
            "/usr/local/lib/python3.8/dist-packages/sklearn/base.py:450: UserWarning: X does not have valid feature names, but LogisticRegression was fitted with feature names\n",
            "  warnings.warn(\n"
          ]
        }
      ]
    },
    {
      "cell_type": "markdown",
      "source": [
        "**Thus you can see that the model has now predicting when i entered cretain values ,and the prediction was that the particular transaction is not fraud or can say its *LEGIT(0)*** "
      ],
      "metadata": {
        "id": "MMys0YBs-F62"
      }
    }
  ]
}